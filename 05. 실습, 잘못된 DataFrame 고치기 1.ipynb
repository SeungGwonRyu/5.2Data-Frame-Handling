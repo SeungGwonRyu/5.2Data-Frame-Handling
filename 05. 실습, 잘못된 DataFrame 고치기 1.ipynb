{
 "cells": [
  {
   "cell_type": "code",
   "execution_count": null,
   "metadata": {},
   "outputs": [],
   "source": [
    "'''키와 몸무게가 담겨 있는 한 DataFrame이 있는데요. 몇 가지 잘못된 사항들이 있습니다. 이번 챕터에서 배운 기법들로 DataFrame을 바로잡아 봅시다.\n",
    "해야 할 일이 세 가지 있습니다.\n",
    "\n",
    "ID 1의 무게를 200으로 변경하세요.\n",
    "ID 21의 row를 삭제하세요.\n",
    "ID 20의 row를 추가하세요. ID 20의 키는 70, 무게는 200입니다.\n",
    "딱 3줄의 코드만 추가하시면 됩니다!\n",
    "\n",
    "주의 사항: 자동 채점 과제입니다. 정답 출력 코드는 print 없이 작성해 주세요. (예시: df)\n",
    "\n",
    "'''"
   ]
  },
  {
   "cell_type": "code",
   "execution_count": null,
   "metadata": {},
   "outputs": [],
   "source": [
    "import pandas as pd\n",
    "\n",
    "df = pd.read_csv('data/body_imperial1.csv', index_col=0)\n",
    "\n",
    "# 여기에 코드를 작성하세요\n",
    "df.iloc[1, 1] = 200.000000\n",
    "df.drop(21, axis = 'index', inplace = True)\n",
    "df.loc[20] = [70.000000, 200.000000]\n",
    "\n",
    "# 테스트 코드\n",
    "df"
   ]
  }
 ],
 "metadata": {
  "language_info": {
   "name": "python"
  },
  "orig_nbformat": 4
 },
 "nbformat": 4,
 "nbformat_minor": 2
}
