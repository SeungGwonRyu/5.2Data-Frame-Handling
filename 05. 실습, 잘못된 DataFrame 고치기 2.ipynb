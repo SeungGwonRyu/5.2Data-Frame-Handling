{
 "cells": [
  {
   "cell_type": "code",
   "execution_count": null,
   "metadata": {},
   "outputs": [],
   "source": [
    "'''실습 설명\n",
    "키와 몸무게가 담겨 있는 한 DataFrame이 있는데요. 몇 가지 잘못된 사항들이 있습니다. 이번 챕터에서 배운 기법들로 DataFrame을 바로잡아 봅시다.\n",
    "해야 할 일이 두 가지 있습니다.\n",
    "'비만도' column을 추가하고, 모든 ID에 대해 '정상'으로 설정해주세요.\n",
    "'Gender' column의 값을 ID 0~10까지는 'Male' 11~20까지는 'Female'로 변경하세요.'''"
   ]
  },
  {
   "cell_type": "code",
   "execution_count": null,
   "metadata": {},
   "outputs": [],
   "source": [
    "import pandas as pd\n",
    "\n",
    "df = pd.read_csv('data/body_imperial2.csv', index_col=0)\n",
    "\n",
    "# 여기에 코드를 작성하세요\n",
    "df['비만도'] = '정상'\n",
    "df.loc[0:10, 'Gender'] = 'Male'\n",
    "df.loc[11:20, 'Gender'] = 'Female'\n",
    "# 테스트 코드\n",
    "df"
   ]
  },
  {
   "cell_type": "code",
   "execution_count": null,
   "metadata": {},
   "outputs": [],
   "source": [
    "'''\n",
    " DataFrame에서 처음부터 n까지의 row를 인덱싱하는 방법은 df.loc[:n, columns],\n",
    "n부터 끝까지 인덱싱하는 방법은 df.loc[n:, columns]\n",
    "문법을 사용하면 됩니다.'''"
   ]
  }
 ],
 "metadata": {
  "language_info": {
   "name": "python"
  },
  "orig_nbformat": 4
 },
 "nbformat": 4,
 "nbformat_minor": 2
}
